{
 "cells": [
  {
   "cell_type": "markdown",
   "metadata": {},
   "source": [
    "# Ques 1. Create a numpy array with 10 elements of the shape(10,1) using np.random and find out the mean of the elements using basic numpy functions."
   ]
  },
  {
   "cell_type": "code",
   "execution_count": 4,
   "metadata": {},
   "outputs": [
    {
     "name": "stdout",
     "output_type": "stream",
     "text": [
      "[[0.25038265]\n [0.7193692 ]\n [0.86213472]\n [0.18460237]\n [0.89496448]\n [0.4268551 ]\n [0.63258671]\n [0.51659934]\n [0.35005793]\n [0.60963001]]\nMean is :  0.5447182498224555\n"
     ]
    }
   ],
   "source": [
    "import numpy as np\n",
    "import sys\n",
    "import time\n",
    "a=np.random.random((10,1))\n",
    "print(a)\n",
    "print(\"Mean is : \",a.mean())"
   ]
  },
  {
   "cell_type": "markdown",
   "metadata": {},
   "source": [
    "# Ques 2. Create a numpy array with 20 elements of the shape(20,1) using np.random find the variance and standard deviation of the elements."
   ]
  },
  {
   "cell_type": "code",
   "execution_count": 4,
   "metadata": {},
   "outputs": [
    {
     "name": "stdout",
     "output_type": "stream",
     "text": [
      "[[ 9]\n [ 1]\n [26]\n [ 3]\n [10]\n [13]\n [19]\n [26]\n [18]\n [16]\n [21]\n [ 3]\n [ 7]\n [18]\n [29]\n [15]\n [26]\n [17]\n [ 5]\n [ 2]]\nVariance of array is :  75.15999999999998\nStandard Deviation is :  8.669486720677297\n"
     ]
    }
   ],
   "source": [
    "import numpy as np\n",
    "import sys\n",
    "import time\n",
    "a=np.random.randint(0,30,(20,1))\n",
    "print(a)\n",
    "print(\"Variance of array is : \",a.var())\n",
    "print(\"Standard Deviation is : \",a.std())"
   ]
  },
  {
   "cell_type": "markdown",
   "metadata": {},
   "source": [
    "# Ques 3. Create a numpy array A of shape(10,20) and B of shape (20,25) using np.random. Print the matrix which is the matrix multiplication of A and B. The shape of the new matrix should be (10,25). Using basic numpy math functions only find the sum of all the elements of the new matrix."
   ]
  },
  {
   "cell_type": "code",
   "execution_count": 3,
   "metadata": {},
   "outputs": [
    {
     "name": "stdout",
     "output_type": "stream",
     "text": [
      "\nMatrix A is :\n [[26  3  6  1 49 21 48 46 33 10  1  8 49 15 48  7 12  3 10 49]\n [ 5 16 47 18 18  0 10 19 16 21 10 11  9  0 22 26 17 20 45  9]\n [49 20 34 26 25 49 44 47 18 47 36 40 46 22 41 34 15 30  5 39]\n [36 45 30 18 20 28 44 35 10 28 10 18 17  1 21 10 22 26 39  1]\n [37 43 32 10 44 10 38 25 28 45 48 27 14 37 46  9 37 11 29  9]\n [18  9 49 40 20 45 17 22 33 43 20 11 18 44 37 21 36  4 29  5]\n [24 42  7 43 29 42 43  1 42 28 12 36 46 37 23 44 11 47 36  3]\n [ 8 23  5 45 39 10 16 47 20 13 26 23 39 47  8 40 46  1 15 36]\n [25 23 26 26 13 17 44 39  2  6 49 44 20 38 20 14 43 34 21 43]\n [49 49 16 45 28 22 42 38 30 31 48 31 45 25 13 30 23 16 23 12]]\n\n\nMatrix B is :\n [[18 46 30 15 15 21 46 27 17  8  4 11 41 21 47 39 30 47 15 20  1 44 11  4\n   9]\n [29 24 34  6  2 18 20 29 11 37 35 20 34 36 10 47 43 44  0 10 23 11  7 25\n  42]\n [43  7  4 10 47 43 23 47 10 41 28  1 47 46 49  5 46 17 24 42 12  0 40 20\n  20]\n [27  6 28 34 46 43  9 29 13 36 16 34 30 10  8 49 49 17 27 42 39  3 39 14\n  32]\n [30 16 21 24 22 40 25 36  5 46  9 38 18 44  6  6 29 47 24 33 38 14 48  9\n   8]\n [26  8 33  6 18 41 26  9 41 33 26 47  9 47 48  4 12 49 22 10 42  0 41  4\n  38]\n [46 45 35  0 35  5 16 43 14 21  7 49 39 46 43 35 29 32 15 27 37  8 33 19\n  32]\n [ 4 46 36 38 34  5 10 20 42 12 18 35 26 21 48  0 12 13 46 25 35 33  0 31\n  11]\n [16 49 42 11 10 18 20 16 24  1 16 15 23 34 42 27 48 15 42 42 37 31 16 28\n  41]\n [23 16 34 47  7 32 24 25 24 45 44  2  8 13 17 32 47 30 18 21  0  1 17  9\n   4]\n [10 14 15 19 23 40 10 41 19 14  1 44 45  9 21 43 36 19 48 13 42 36 16  7\n  44]\n [ 6 16 20 46  1 40 30  8 34 35  1  1 31  6 42 12 24  5  3 48 13 20 45 21\n  30]\n [ 7 43 13 18  3 32  6 49  8 15  0 15 32 16 37 41 27 12 28 19 33 31 31 12\n  44]\n [47  8 30 40 34 19 18  4 40  6 24 28 43 38 31  0 32  0 17 43 43 21 22 38\n  45]\n [28 33 27  8 25 38 42  1  1 18 38 35 15  6 40 23 33  7 46  0 13 46 26 28\n  43]\n [45 23 44 20 49 30 22 45 24 46 49  3 42 48 11  3 32  3 11 46 44 49  9 13\n  46]\n [10 32 24 24 48 17 48  5 13  1 26 24 30 28 24 18  7 24 22 10  3 30 22 40\n  18]\n [23  0 27 10 13  8 47 14 11  5 31 45  6 49 49  6 36 11 48  6 47 36 13 26\n  17]\n [32 19 35 49 34 44 44  5 22 45 16 32  4 39 35 24 48 30 37 36 26 25 23 20\n  34]\n [ 8 47 12 14 40 43 25 26 19 32 22  0 14 42 13  9 22 11 45 26 42 31 35  1\n  18]]\n\n\nMultiplication of Two Matrices is: \n [[ 9672 15312 11891  8272 10970 12128 10668 11170  8129  9941  7691 11363\n  11082 13475 14738  8691 12494  9898 13568 10780 13392 11619 11865  7765\n  12127]\n [ 9033  7632  9040  8063  9901 10573  9358  8524  5765 10116  8049  7337\n   8679 10760 10572  6728 12299  6989  9662  9611  8779  7705  8280  6662\n   9292]\n [15177 17537 17756 13857 15933 19161 16258 17134 13540 16516 13359 15612\n  18203 18947 21928 14051 20320 14572 17835 16417 18626 15712 16659 10970\n  18483]\n [11511 11708 13125  9571 10946 12171 12443 11190  8575 12097  9449 12053\n  11964 14162 15444 10842 14965 12309 11359 10823 11607  9584 10718  8611\n  12247]\n [14265 14639 15668 12941 13815 16335 15210 13608 10611 14040 11626 14361\n  16323 16129 17641 13500 19167 13756 15016 14163 14383 13335 13814 11362\n  16246]\n [13790 11613 14346 12225 14596 16000 13112 11568 10790 13272 11840 12569\n  14086 15257 16604 10549 17292 11321 13883 14142 13777 10476 13584 10210\n  15312]\n [15760 13672 17626 12704 13222 16729 14991 14261 11578 15258 12377 15235\n  15534 18666 18445 13795 20343 13253 14376 16054 18417 13344 15028 10992\n  19130]\n [11369 13417 13816 12802 14625 14396 11082 12602 10678 12267  9858 11887\n  14799 14618 13248 10228 14973  9588 13338 14583 15881 12425 12447 10031\n  15023]\n [12217 13684 13802 12135 15008 15073 13910 12850 11159 12168  9819 14041\n  15931 15925 17472 11218 16075 10722 15087 13801 16034 13360 13639 10659\n  15646]\n [14195 16199 17205 13613 14435 17004 14179 16478 12075 14976 11094 15134\n  18180 17033 18475 15867 20146 14446 15361 16059 17496 14322 14295 10845\n  18205]]\n\n\n Sum of elements of new matrix is:  3325838\n"
     ]
    }
   ],
   "source": [
    "import numpy as np\n",
    "import sys\n",
    "import time\n",
    "a=np.random.randint(0,50,(10,20))\n",
    "print(\"\\nMatrix A is :\\n\",a)\n",
    "b=np.random.randint(0,50,(20,25))\n",
    "print(\"\\n\\nMatrix B is :\\n\",b)\n",
    "c=np.matmul(a,b)\n",
    "print(\"\\n\\nMultiplication of Two Matrices is: \\n\",c)\n",
    "print(\"\\n\\n Sum of elements of new matrix is: \",c.sum())\n",
    "\n"
   ]
  },
  {
   "cell_type": "markdown",
   "metadata": {},
   "source": [
    "# Ques4. Create a numpy array A of shape(10,1).Using the basic operations of the numpy array generate an array of shape(10,1) such that each element is the following function applied on each element of A. \n",
    "# \n",
    "# f(x)=1 / (1 + exp(-x)) \n",
    "# Apply this function to each element of A and print the new array holding the value the function returns\n",
    "# Example:\n",
    "# \n",
    "# a=[a1,a2,a3]   \n",
    "# n(new array to be printed )=[ f(a1), f(a2), f(a3)]"
   ]
  },
  {
   "cell_type": "code",
   "execution_count": 6,
   "metadata": {},
   "outputs": [
    {
     "name": "stdout",
     "output_type": "stream",
     "text": [
      "[[0.99999774]\n [1.        ]\n [0.99999386]\n [1.        ]\n [1.        ]\n [1.        ]\n [1.        ]\n [1.        ]\n [1.        ]\n [1.        ]]\n"
     ]
    }
   ],
   "source": [
    "import numpy as np\n",
    "import sys\n",
    "import time\n",
    "a=np.random.randint(0,100,(10,1))\n",
    "def function(x):\n",
    "    y=1/(1+np.exp(-x))\n",
    "    return y\n",
    "list=[]\n",
    "for x in a:\n",
    "    list.append(function(x))\n",
    "b=np.array(list)\n",
    "print(b)"
   ]
  },
  {
   "cell_type": "code",
   "execution_count": null,
   "metadata": {},
   "outputs": [],
   "source": []
  }
 ],
 "metadata": {},
 "nbformat": 4,
 "nbformat_minor": 0
}
